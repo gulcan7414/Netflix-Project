{
 "cells": [
  {
   "cell_type": "code",
   "execution_count": null,
   "metadata": {},
   "outputs": [],
   "source": [
    "import requests\n",
    "import json\n",
    "\n",
    "from config import api_key\n",
    "import requests"
   ]
  },
  {
   "cell_type": "code",
   "execution_count": null,
   "metadata": {},
   "outputs": [],
   "source": [
    "url = \"https://airbnb19.p.rapidapi.com/api/v1/searchDestination\"\n",
    "\n",
    "querystring = {\"query\":\"Perth\",\"country\":\"Australia\"}\n",
    "\n",
    "headers = {\n",
    "\t\"content-type\": \"application/octet-stream\",\n",
    "\t\"X-RapidAPI-Key\": \"dd7dd3843amsh6b942ff8ea44f5cp1ce0d5jsna104260fd951\",\n",
    "\t\"X-RapidAPI-Host\": \"airbnb19.p.rapidapi.com\"\n",
    "}\n",
    "\n",
    "response = requests.get(url, headers=headers, params=querystring)\n",
    "\n",
    "response.json()"
   ]
  },
  {
   "cell_type": "code",
   "execution_count": null,
   "metadata": {},
   "outputs": [],
   "source": [
    "# Write to .CSV\n",
    "f = open('C:\\_Python\\one\\\\newfile.csv', \"w\")\n",
    "f.write(rcomp.text)\n",
    "f.close()\n",
    "'''\n",
    "data = rcomp.text\n",
    "csvFile = open('C:\\_Python\\\\CompletionReportOutput.csv', 'w')\n",
    "\n",
    "writer = csv.writer(csvFile, delimiter = \"\")\n",
    "\n",
    "for row in data.split('\\n'):\n",
    "    writer.writerow(row)"
   ]
  }
 ],
 "metadata": {
  "language_info": {
   "name": "python"
  },
  "orig_nbformat": 4
 },
 "nbformat": 4,
 "nbformat_minor": 2
}
