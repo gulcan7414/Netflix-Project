{
 "cells": [
  {
   "cell_type": "code",
   "execution_count": 1,
   "metadata": {},
   "outputs": [],
   "source": [
    "import requests\n",
    "import json\n",
    "\n",
    "from config import api_key\n",
    "import requests"
   ]
  },
  {
   "cell_type": "code",
   "execution_count": 5,
   "metadata": {},
   "outputs": [
    {
     "data": {
      "text/plain": [
       "{'status': True,\n",
       " 'message': 'Success',\n",
       " 'timestamp': 1682744071118,\n",
       " 'data': [{'id': 'ChIJPXNH22yWMioR0FXfNbXwBAM',\n",
       "   'location_name': 'Perth, Western Australia',\n",
       "   'terms': [{'offset': 0, 'value': 'Perth'},\n",
       "    {'offset': 7, 'value': 'Western Australia'}],\n",
       "   'country_code': 'AU',\n",
       "   'countryCode': 'AU',\n",
       "   'display_name': 'Perth, Western Australia'},\n",
       "  {'id': 'ChIJPXNH22yWMioR0FXfNbXwBAM',\n",
       "   'location_name': 'Perth, Western Australia',\n",
       "   'terms': [{'offset': 0, 'value': 'Perth'},\n",
       "    {'offset': 7, 'value': 'Western Australia'}],\n",
       "   'country_code': 'AU',\n",
       "   'countryCode': 'AU',\n",
       "   'display_name': 'Perth, Western Australia stays'},\n",
       "  {'id': 'ChIJPXNH22yWMioR0FXfNbXwBAM',\n",
       "   'location_name': 'Perth, Western Australia',\n",
       "   'terms': [{'offset': 0, 'value': 'Perth'},\n",
       "    {'offset': 7, 'value': 'Western Australia'}],\n",
       "   'country_code': 'AU',\n",
       "   'countryCode': 'AU',\n",
       "   'display_name': 'Perth, Western Australia experiences'},\n",
       "  {'id': 'ChIJJUGGbU47hkgR7U1JU0ZWdG0',\n",
       "   'location_name': 'Perth, Scotland, UK',\n",
       "   'terms': [{'offset': 0, 'value': 'Perth'},\n",
       "    {'offset': 7, 'value': 'Scotland'},\n",
       "    {'offset': 17, 'value': 'UK'}],\n",
       "   'country_code': 'GB',\n",
       "   'countryCode': 'GB',\n",
       "   'display_name': 'Perth, Scotland'},\n",
       "  {'id': 'ChIJC4Rr0Cq7MioRAFPLcwKhtHI',\n",
       "   'location_name': 'Perth City, WA, Australia',\n",
       "   'terms': [{'offset': 0, 'value': 'Perth City'},\n",
       "    {'offset': 12, 'value': 'WA'},\n",
       "    {'offset': 16, 'value': 'Australia'}],\n",
       "   'country_code': 'AU',\n",
       "   'countryCode': 'AU',\n",
       "   'display_name': 'Perth City, WA'}]}"
      ]
     },
     "execution_count": 5,
     "metadata": {},
     "output_type": "execute_result"
    }
   ],
   "source": [
    "url = \"https://airbnb19.p.rapidapi.com/api/v1/searchDestination\"\n",
    "\n",
    "querystring = {\"query\":\"Perth\",\"country\":\"Australia\"}\n",
    "\n",
    "headers = {\n",
    "\t\"content-type\": \"application/octet-stream\",\n",
    "\t\"X-RapidAPI-Key\": \"dd7dd3843amsh6b942ff8ea44f5cp1ce0d5jsna104260fd951\",\n",
    "\t\"X-RapidAPI-Host\": \"airbnb19.p.rapidapi.com\"\n",
    "}\n",
    "\n",
    "response = requests.get(url, headers=headers, params=querystring)\n",
    "\n",
    "response.json()"
   ]
  },
  {
   "cell_type": "code",
   "execution_count": 17,
   "metadata": {},
   "outputs": [],
   "source": [
    "import pandas as pd\n",
    "data = response.json() \n",
    "df = pd.DataFrame(data) \n",
    "# Display the dataframe as a table\n",
    "df\n",
    "# Write the dataframe to a CSV file\n",
    "df.to_csv(\"my_dataframe.csv\")"
   ]
  },
  {
   "cell_type": "code",
   "execution_count": 16,
   "metadata": {},
   "outputs": [],
   "source": []
  },
  {
   "cell_type": "code",
   "execution_count": 3,
   "metadata": {},
   "outputs": [
    {
     "ename": "SyntaxError",
     "evalue": "incomplete input (815346959.py, line 5)",
     "output_type": "error",
     "traceback": [
      "\u001b[1;36m  Cell \u001b[1;32mIn[3], line 5\u001b[1;36m\u001b[0m\n\u001b[1;33m    '''\u001b[0m\n\u001b[1;37m    ^\u001b[0m\n\u001b[1;31mSyntaxError\u001b[0m\u001b[1;31m:\u001b[0m incomplete input\n"
     ]
    }
   ],
   "source": [
    "# Write to .CSV\n",
    "f = open('C:\\_Python\\one\\\\newfile.csv', \"w\")\n",
    "f.write(rcomp.text)\n",
    "f.close()\n",
    "'''\n",
    "data = rcomp.text\n",
    "csvFile = open('C:\\_Python\\\\CompletionReportOutput.csv', 'w')\n",
    "\n",
    "writer = csv.writer(csvFile, delimiter = \"\")\n",
    "\n",
    "for row in data.split('\\n'):\n",
    "    writer.writerow(row)"
   ]
  },
  {
   "cell_type": "code",
   "execution_count": 14,
   "metadata": {},
   "outputs": [],
   "source": [
    "import pandas as pd"
   ]
  },
  {
   "cell_type": "code",
   "execution_count": 21,
   "metadata": {},
   "outputs": [],
   "source": [
    "data1 = {\"Name\": [\"John\", \"Jack\", \"Harry\", \"Nutball\", \"Donkey\", \"Clown\"], \"Age\": [1, 6, 9, 13, 16, 19], \"City\": [\"north\", \"south\", \"west\", \"butt\", \"Byby\", \"Eastwestnorth\"]}\n",
    "df1 = pd.DataFrame(data1)\n"
   ]
  },
  {
   "cell_type": "code",
   "execution_count": 22,
   "metadata": {},
   "outputs": [
    {
     "data": {
      "text/html": [
       "<div>\n",
       "<style scoped>\n",
       "    .dataframe tbody tr th:only-of-type {\n",
       "        vertical-align: middle;\n",
       "    }\n",
       "\n",
       "    .dataframe tbody tr th {\n",
       "        vertical-align: top;\n",
       "    }\n",
       "\n",
       "    .dataframe thead th {\n",
       "        text-align: right;\n",
       "    }\n",
       "</style>\n",
       "<table border=\"1\" class=\"dataframe\">\n",
       "  <thead>\n",
       "    <tr style=\"text-align: right;\">\n",
       "      <th></th>\n",
       "      <th>Name</th>\n",
       "      <th>Age</th>\n",
       "      <th>City</th>\n",
       "    </tr>\n",
       "  </thead>\n",
       "  <tbody>\n",
       "    <tr>\n",
       "      <th>0</th>\n",
       "      <td>John</td>\n",
       "      <td>1</td>\n",
       "      <td>north</td>\n",
       "    </tr>\n",
       "    <tr>\n",
       "      <th>1</th>\n",
       "      <td>Jack</td>\n",
       "      <td>6</td>\n",
       "      <td>south</td>\n",
       "    </tr>\n",
       "    <tr>\n",
       "      <th>2</th>\n",
       "      <td>Harry</td>\n",
       "      <td>9</td>\n",
       "      <td>west</td>\n",
       "    </tr>\n",
       "    <tr>\n",
       "      <th>3</th>\n",
       "      <td>Nutball</td>\n",
       "      <td>13</td>\n",
       "      <td>butt</td>\n",
       "    </tr>\n",
       "    <tr>\n",
       "      <th>4</th>\n",
       "      <td>Donkey</td>\n",
       "      <td>16</td>\n",
       "      <td>Byby</td>\n",
       "    </tr>\n",
       "    <tr>\n",
       "      <th>5</th>\n",
       "      <td>Clown</td>\n",
       "      <td>19</td>\n",
       "      <td>Eastwestnorth</td>\n",
       "    </tr>\n",
       "  </tbody>\n",
       "</table>\n",
       "</div>"
      ],
      "text/plain": [
       "      Name  Age           City\n",
       "0     John    1          north\n",
       "1     Jack    6          south\n",
       "2    Harry    9           west\n",
       "3  Nutball   13           butt\n",
       "4   Donkey   16           Byby\n",
       "5    Clown   19  Eastwestnorth"
      ]
     },
     "execution_count": 22,
     "metadata": {},
     "output_type": "execute_result"
    }
   ],
   "source": [
    "df1\n"
   ]
  },
  {
   "cell_type": "code",
   "execution_count": 2,
   "metadata": {},
   "outputs": [
    {
     "ename": "NameError",
     "evalue": "name 'df1' is not defined",
     "output_type": "error",
     "traceback": [
      "\u001b[1;31m---------------------------------------------------------------------------\u001b[0m",
      "\u001b[1;31mNameError\u001b[0m                                 Traceback (most recent call last)",
      "Cell \u001b[1;32mIn[2], line 1\u001b[0m\n\u001b[1;32m----> 1\u001b[0m df1\u001b[39m.\u001b[39mto_csv(\u001b[39m\"\u001b[39m\u001b[39mmy_file_.csv\u001b[39m\u001b[39m\"\u001b[39m, index\u001b[39m=\u001b[39m\u001b[39mFalse\u001b[39;00m)\n",
      "\u001b[1;31mNameError\u001b[0m: name 'df1' is not defined"
     ]
    }
   ],
   "source": [
    "df1.to_csv(\"my_file_.csv\", index=False)"
   ]
  },
  {
   "cell_type": "code",
   "execution_count": null,
   "metadata": {},
   "outputs": [],
   "source": []
  }
 ],
 "metadata": {
  "kernelspec": {
   "display_name": "Python 3 (ipykernel)",
   "language": "python",
   "name": "python3"
  },
  "language_info": {
   "codemirror_mode": {
    "name": "ipython",
    "version": 3
   },
   "file_extension": ".py",
   "mimetype": "text/x-python",
   "name": "python",
   "nbconvert_exporter": "python",
   "pygments_lexer": "ipython3",
   "version": "3.10.10"
  }
 },
 "nbformat": 4,
 "nbformat_minor": 2
}
