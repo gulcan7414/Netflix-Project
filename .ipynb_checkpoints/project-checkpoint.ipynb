{
 "cells": [
  {
   "cell_type": "code",
   "execution_count": 3,
   "metadata": {},
   "outputs": [],
   "source": [
    "import requests\n",
    "import json\n",
    "\n",
    "from config import api_key\n",
    "import requests"
   ]
  },
  {
   "cell_type": "code",
   "execution_count": 4,
   "metadata": {},
   "outputs": [
    {
     "data": {
      "text/plain": [
       "{'status': True,\n",
       " 'message': 'Success',\n",
       " 'timestamp': 1682599988648,\n",
       " 'data': [{'id': 'ChIJPXNH22yWMioR0FXfNbXwBAM',\n",
       "   'location_name': 'Perth, Western Australia',\n",
       "   'terms': [{'offset': 0, 'value': 'Perth'},\n",
       "    {'offset': 7, 'value': 'Western Australia'}],\n",
       "   'country_code': 'AU',\n",
       "   'countryCode': 'AU',\n",
       "   'display_name': 'Perth, Western Australia'},\n",
       "  {'id': 'ChIJPXNH22yWMioR0FXfNbXwBAM',\n",
       "   'location_name': 'Perth, Western Australia',\n",
       "   'terms': [{'offset': 0, 'value': 'Perth'},\n",
       "    {'offset': 7, 'value': 'Western Australia'}],\n",
       "   'country_code': 'AU',\n",
       "   'countryCode': 'AU',\n",
       "   'display_name': 'Perth, Western Australia stays'},\n",
       "  {'id': 'ChIJPXNH22yWMioR0FXfNbXwBAM',\n",
       "   'location_name': 'Perth, Western Australia',\n",
       "   'terms': [{'offset': 0, 'value': 'Perth'},\n",
       "    {'offset': 7, 'value': 'Western Australia'}],\n",
       "   'country_code': 'AU',\n",
       "   'countryCode': 'AU',\n",
       "   'display_name': 'Perth, Western Australia experiences'},\n",
       "  {'id': 'ChIJJUGGbU47hkgR7U1JU0ZWdG0',\n",
       "   'location_name': 'Perth, Scotland, UK',\n",
       "   'terms': [{'offset': 0, 'value': 'Perth'},\n",
       "    {'offset': 7, 'value': 'Scotland'},\n",
       "    {'offset': 17, 'value': 'UK'}],\n",
       "   'country_code': 'GB',\n",
       "   'countryCode': 'GB',\n",
       "   'display_name': 'Perth, Scotland'},\n",
       "  {'id': 'ChIJC4Rr0Cq7MioRAFPLcwKhtHI',\n",
       "   'location_name': 'Perth City, WA, Australia',\n",
       "   'terms': [{'offset': 0, 'value': 'Perth City'},\n",
       "    {'offset': 12, 'value': 'WA'},\n",
       "    {'offset': 16, 'value': 'Australia'}],\n",
       "   'country_code': 'AU',\n",
       "   'countryCode': 'AU',\n",
       "   'display_name': 'Perth City, WA'}]}"
      ]
     },
     "execution_count": 4,
     "metadata": {},
     "output_type": "execute_result"
    }
   ],
   "source": [
    "url = \"https://airbnb19.p.rapidapi.com/api/v1/searchDestination\"\n",
    "\n",
    "querystring = {\"query\":\"Perth\",\"country\":\"Australia\"}\n",
    "\n",
    "headers = {\n",
    "\t\"content-type\": \"application/octet-stream\",\n",
    "\t\"X-RapidAPI-Key\": \"dd7dd3843amsh6b942ff8ea44f5cp1ce0d5jsna104260fd951\",\n",
    "\t\"X-RapidAPI-Host\": \"airbnb19.p.rapidapi.com\"\n",
    "}\n",
    "\n",
    "response = requests.get(url, headers=headers, params=querystring)\n",
    "\n",
    "response.json()"
   ]
  },
  {
   "cell_type": "code",
   "execution_count": 5,
   "metadata": {},
   "outputs": [
    {
     "ename": "SyntaxError",
     "evalue": "incomplete input (815346959.py, line 5)",
     "output_type": "error",
     "traceback": [
      "\u001b[1;36m  Cell \u001b[1;32mIn[5], line 5\u001b[1;36m\u001b[0m\n\u001b[1;33m    '''\u001b[0m\n\u001b[1;37m    ^\u001b[0m\n\u001b[1;31mSyntaxError\u001b[0m\u001b[1;31m:\u001b[0m incomplete input\n"
     ]
    }
   ],
   "source": [
    "# Write to .CSV\n",
    "f = open('C:\\_Python\\one\\\\newfile.csv', \"w\")\n",
    "f.write(rcomp.text)\n",
    "f.close()\n",
    "'''\n",
    "data = rcomp.text\n",
    "csvFile = open('C:\\_Python\\\\CompletionReportOutput.csv', 'w')\n",
    "\n",
    "writer = csv.writer(csvFile, delimiter = \"\")\n",
    "\n",
    "for row in data.split('\\n'):\n",
    "    writer.writerow(row)"
   ]
  },
  {
   "cell_type": "code",
   "execution_count": null,
   "metadata": {},
   "outputs": [],
   "source": []
  },
  {
   "cell_type": "code",
   "execution_count": null,
   "metadata": {},
   "outputs": [],
   "source": []
  }
 ],
 "metadata": {
  "kernelspec": {
   "display_name": "Python 3 (ipykernel)",
   "language": "python",
   "name": "python3"
  },
  "language_info": {
   "codemirror_mode": {
    "name": "ipython",
    "version": 3
   },
   "file_extension": ".py",
   "mimetype": "text/x-python",
   "name": "python",
   "nbconvert_exporter": "python",
   "pygments_lexer": "ipython3",
   "version": "3.10.10"
  }
 },
 "nbformat": 4,
 "nbformat_minor": 2
}
